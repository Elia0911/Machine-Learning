{
  "cells": [
    {
      "cell_type": "markdown",
      "metadata": {
        "id": "jeF0EGkHCTXB"
      },
      "source": [
        "## Setup"
      ]
    },
    {
      "cell_type": "code",
      "execution_count": null,
      "metadata": {
        "id": "FyL-lXumJRMI"
      },
      "outputs": [],
      "source": [
        "import re\n",
        "import os\n",
        "\n",
        "import pandas as pd\n",
        "import numpy as np\n",
        "import string\n",
        "from collections import Counter\n",
        "import sklearn\n",
        "from sklearn.model_selection import train_test_split\n",
        "from sklearn.metrics import classification_report\n",
        "\n",
        "import tensorflow as tf\n",
        "from tensorflow.keras import layers\n",
        "from tensorflow.keras import losses\n",
        "from tensorflow.keras import regularizers\n",
        "from tensorflow.keras import preprocessing\n",
        "from tensorflow.keras.preprocessing.text import Tokenizer\n",
        "from tensorflow.keras.preprocessing.sequence import pad_sequences\n",
        "\n",
        "import matplotlib.pyplot as plt\n",
        "import seaborn as sns\n",
        "\n",
        "import warnings\n",
        "warnings.filterwarnings('ignore')"
      ]
    },
    {
      "cell_type": "code",
      "execution_count": null,
      "metadata": {
        "colab": {
          "base_uri": "https://localhost:8080/",
          "height": 93,
          "resources": {
            "http://localhost:8080/nbextensions/google.colab/files.js": {
              "data": "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",
              "headers": [
                [
                  "content-type",
                  "application/javascript"
                ]
              ],
              "ok": true,
              "status": 200,
              "status_text": ""
            }
          }
        },
        "id": "6i4biCZlQuQo",
        "outputId": "f9b56910-7c01-4d69-e1f2-c8f9a7f984d6"
      },
      "outputs": [
        {
          "data": {
            "text/html": [
              "\n",
              "     <input type=\"file\" id=\"files-8d91576a-e242-42e0-bcad-4f9b9148eed1\" name=\"files[]\" multiple disabled\n",
              "        style=\"border:none\" />\n",
              "     <output id=\"result-8d91576a-e242-42e0-bcad-4f9b9148eed1\">\n",
              "      Upload widget is only available when the cell has been executed in the\n",
              "      current browser session. Please rerun this cell to enable.\n",
              "      </output>\n",
              "      <script src=\"/nbextensions/google.colab/files.js\"></script> "
            ],
            "text/plain": [
              "<IPython.core.display.HTML object>"
            ]
          },
          "metadata": {},
          "output_type": "display_data"
        },
        {
          "name": "stdout",
          "output_type": "stream",
          "text": [
            "Saving kaggle.json to kaggle.json\n"
          ]
        },
        {
          "data": {
            "text/plain": [
              "{'kaggle.json': b'{\"username\":\"alioun\",\"key\":\"63763b8d90a4c9c4765ea5127bff86d5\"}'}"
            ]
          },
          "execution_count": 2,
          "metadata": {},
          "output_type": "execute_result"
        }
      ],
      "source": [
        "from google.colab import files\n",
        "files.upload()"
      ]
    },
    {
      "cell_type": "code",
      "execution_count": null,
      "metadata": {
        "id": "lCyAgF4BJaHt"
      },
      "outputs": [],
      "source": [
        "!pip install -q kaggle"
      ]
    },
    {
      "cell_type": "code",
      "execution_count": null,
      "metadata": {
        "id": "uZxLFcwPPNHS"
      },
      "outputs": [],
      "source": [
        "!mkdir -p ~/.kaggle"
      ]
    },
    {
      "cell_type": "code",
      "execution_count": null,
      "metadata": {
        "id": "pPI1u1CUPSUU"
      },
      "outputs": [],
      "source": [
        "!cp kaggle.json ~/.kaggle/"
      ]
    },
    {
      "cell_type": "code",
      "execution_count": null,
      "metadata": {
        "id": "kDOS9WkrQ4up"
      },
      "outputs": [],
      "source": [
        "!chmod 600 /root/.kaggle/kaggle.json"
      ]
    },
    {
      "cell_type": "markdown",
      "metadata": {
        "id": "dHBbuskvCbB2"
      },
      "source": [
        "## Getting the dataset"
      ]
    },
    {
      "cell_type": "code",
      "execution_count": null,
      "metadata": {
        "colab": {
          "base_uri": "https://localhost:8080/"
        },
        "id": "hll56Q4AQ7dy",
        "outputId": "996cd997-91fa-4255-bf17-baf3d12bcc64"
      },
      "outputs": [
        {
          "name": "stdout",
          "output_type": "stream",
          "text": [
            "Downloading twitter-hate-speech.zip to /content\n",
            "\r  0% 0.00/1.89M [00:00<?, ?B/s]\n",
            "\r100% 1.89M/1.89M [00:00<00:00, 207MB/s]\n"
          ]
        }
      ],
      "source": [
        "!kaggle datasets download -d vkrahul/twitter-hate-speech"
      ]
    },
    {
      "cell_type": "code",
      "execution_count": null,
      "metadata": {
        "colab": {
          "base_uri": "https://localhost:8080/"
        },
        "id": "nPBwetwxQ-kP",
        "outputId": "516ae764-2c0b-4930-9f39-698ade7c74fa"
      },
      "outputs": [
        {
          "name": "stdout",
          "output_type": "stream",
          "text": [
            "Archive:  /content/twitter-hate-speech.zip\n",
            "  inflating: test_tweets_anuFYb8.csv  \n",
            "  inflating: train_E6oV3lV.csv       \n"
          ]
        }
      ],
      "source": [
        "\n",
        "\n",
        "!unzip /content/twitter-hate-speech.zip\n",
        "\n"
      ]
    },
    {
      "cell_type": "markdown",
      "metadata": {
        "id": "3XnKRdEuCg-H"
      },
      "source": [
        "## Readig the dataset"
      ]
    },
    {
      "cell_type": "code",
      "execution_count": null,
      "metadata": {
        "colab": {
          "base_uri": "https://localhost:8080/",
          "height": 206
        },
        "id": "UOIhAbTIRKye",
        "outputId": "c66b133b-78bf-45bc-c88b-b763428d312a"
      },
      "outputs": [
        {
          "data": {
            "text/html": [
              "\n",
              "  <div id=\"df-7c182570-45ab-436d-9973-66a1158bf80c\">\n",
              "    <div class=\"colab-df-container\">\n",
              "      <div>\n",
              "<style scoped>\n",
              "    .dataframe tbody tr th:only-of-type {\n",
              "        vertical-align: middle;\n",
              "    }\n",
              "\n",
              "    .dataframe tbody tr th {\n",
              "        vertical-align: top;\n",
              "    }\n",
              "\n",
              "    .dataframe thead th {\n",
              "        text-align: right;\n",
              "    }\n",
              "</style>\n",
              "<table border=\"1\" class=\"dataframe\">\n",
              "  <thead>\n",
              "    <tr style=\"text-align: right;\">\n",
              "      <th></th>\n",
              "      <th>label</th>\n",
              "      <th>tweet</th>\n",
              "    </tr>\n",
              "  </thead>\n",
              "  <tbody>\n",
              "    <tr>\n",
              "      <th>0</th>\n",
              "      <td>0</td>\n",
              "      <td>@user when a father is dysfunctional and is s...</td>\n",
              "    </tr>\n",
              "    <tr>\n",
              "      <th>1</th>\n",
              "      <td>0</td>\n",
              "      <td>@user @user thanks for #lyft credit i can't us...</td>\n",
              "    </tr>\n",
              "    <tr>\n",
              "      <th>2</th>\n",
              "      <td>0</td>\n",
              "      <td>bihday your majesty</td>\n",
              "    </tr>\n",
              "    <tr>\n",
              "      <th>3</th>\n",
              "      <td>0</td>\n",
              "      <td>#model   i love u take with u all the time in ...</td>\n",
              "    </tr>\n",
              "    <tr>\n",
              "      <th>4</th>\n",
              "      <td>0</td>\n",
              "      <td>factsguide: society now    #motivation</td>\n",
              "    </tr>\n",
              "  </tbody>\n",
              "</table>\n",
              "</div>\n",
              "      <button class=\"colab-df-convert\" onclick=\"convertToInteractive('df-7c182570-45ab-436d-9973-66a1158bf80c')\"\n",
              "              title=\"Convert this dataframe to an interactive table.\"\n",
              "              style=\"display:none;\">\n",
              "        \n",
              "  <svg xmlns=\"http://www.w3.org/2000/svg\" height=\"24px\"viewBox=\"0 0 24 24\"\n",
              "       width=\"24px\">\n",
              "    <path d=\"M0 0h24v24H0V0z\" fill=\"none\"/>\n",
              "    <path d=\"M18.56 5.44l.94 2.06.94-2.06 2.06-.94-2.06-.94-.94-2.06-.94 2.06-2.06.94zm-11 1L8.5 8.5l.94-2.06 2.06-.94-2.06-.94L8.5 2.5l-.94 2.06-2.06.94zm10 10l.94 2.06.94-2.06 2.06-.94-2.06-.94-.94-2.06-.94 2.06-2.06.94z\"/><path d=\"M17.41 7.96l-1.37-1.37c-.4-.4-.92-.59-1.43-.59-.52 0-1.04.2-1.43.59L10.3 9.45l-7.72 7.72c-.78.78-.78 2.05 0 2.83L4 21.41c.39.39.9.59 1.41.59.51 0 1.02-.2 1.41-.59l7.78-7.78 2.81-2.81c.8-.78.8-2.07 0-2.86zM5.41 20L4 18.59l7.72-7.72 1.47 1.35L5.41 20z\"/>\n",
              "  </svg>\n",
              "      </button>\n",
              "      \n",
              "  <style>\n",
              "    .colab-df-container {\n",
              "      display:flex;\n",
              "      flex-wrap:wrap;\n",
              "      gap: 12px;\n",
              "    }\n",
              "\n",
              "    .colab-df-convert {\n",
              "      background-color: #E8F0FE;\n",
              "      border: none;\n",
              "      border-radius: 50%;\n",
              "      cursor: pointer;\n",
              "      display: none;\n",
              "      fill: #1967D2;\n",
              "      height: 32px;\n",
              "      padding: 0 0 0 0;\n",
              "      width: 32px;\n",
              "    }\n",
              "\n",
              "    .colab-df-convert:hover {\n",
              "      background-color: #E2EBFA;\n",
              "      box-shadow: 0px 1px 2px rgba(60, 64, 67, 0.3), 0px 1px 3px 1px rgba(60, 64, 67, 0.15);\n",
              "      fill: #174EA6;\n",
              "    }\n",
              "\n",
              "    [theme=dark] .colab-df-convert {\n",
              "      background-color: #3B4455;\n",
              "      fill: #D2E3FC;\n",
              "    }\n",
              "\n",
              "    [theme=dark] .colab-df-convert:hover {\n",
              "      background-color: #434B5C;\n",
              "      box-shadow: 0px 1px 3px 1px rgba(0, 0, 0, 0.15);\n",
              "      filter: drop-shadow(0px 1px 2px rgba(0, 0, 0, 0.3));\n",
              "      fill: #FFFFFF;\n",
              "    }\n",
              "  </style>\n",
              "\n",
              "      <script>\n",
              "        const buttonEl =\n",
              "          document.querySelector('#df-7c182570-45ab-436d-9973-66a1158bf80c button.colab-df-convert');\n",
              "        buttonEl.style.display =\n",
              "          google.colab.kernel.accessAllowed ? 'block' : 'none';\n",
              "\n",
              "        async function convertToInteractive(key) {\n",
              "          const element = document.querySelector('#df-7c182570-45ab-436d-9973-66a1158bf80c');\n",
              "          const dataTable =\n",
              "            await google.colab.kernel.invokeFunction('convertToInteractive',\n",
              "                                                     [key], {});\n",
              "          if (!dataTable) return;\n",
              "\n",
              "          const docLinkHtml = 'Like what you see? Visit the ' +\n",
              "            '<a target=\"_blank\" href=https://colab.research.google.com/notebooks/data_table.ipynb>data table notebook</a>'\n",
              "            + ' to learn more about interactive tables.';\n",
              "          element.innerHTML = '';\n",
              "          dataTable['output_type'] = 'display_data';\n",
              "          await google.colab.output.renderOutput(dataTable, element);\n",
              "          const docLink = document.createElement('div');\n",
              "          docLink.innerHTML = docLinkHtml;\n",
              "          element.appendChild(docLink);\n",
              "        }\n",
              "      </script>\n",
              "    </div>\n",
              "  </div>\n",
              "  "
            ],
            "text/plain": [
              "   label                                              tweet\n",
              "0      0   @user when a father is dysfunctional and is s...\n",
              "1      0  @user @user thanks for #lyft credit i can't us...\n",
              "2      0                                bihday your majesty\n",
              "3      0  #model   i love u take with u all the time in ...\n",
              "4      0             factsguide: society now    #motivation"
            ]
          },
          "execution_count": 9,
          "metadata": {},
          "output_type": "execute_result"
        }
      ],
      "source": [
        "\n",
        "\n",
        "raw_data = pd.read_csv('/content/train_E6oV3lV.csv')\n",
        "data = raw_data.copy()\n",
        "data.drop(columns=['id'], axis=1, inplace=True)\n",
        "data.head()\n",
        "\n"
      ]
    },
    {
      "cell_type": "code",
      "execution_count": null,
      "metadata": {
        "colab": {
          "base_uri": "https://localhost:8080/"
        },
        "id": "Y9DlACL1RTVh",
        "outputId": "7fc73c92-2ed7-4bbe-cafb-8443ee0ac8a7"
      },
      "outputs": [
        {
          "name": "stdout",
          "output_type": "stream",
          "text": [
            "92.99 % are Normal Speech\n",
            "7.01 % are Hate Speech\n"
          ]
        }
      ],
      "source": [
        "print(np.round(data['label'].value_counts()[0]/len(data) * 100, 2), \"% are Normal Speech\")\n",
        "print(np.round(data['label'].value_counts()[1]/len(data) * 100, 2), \"% are Hate Speech\")\n"
      ]
    },
    {
      "cell_type": "code",
      "execution_count": null,
      "metadata": {
        "colab": {
          "base_uri": "https://localhost:8080/",
          "height": 331
        },
        "id": "cVrvbSuMRlTy",
        "outputId": "52b81077-6d0c-4a64-9519-c3fb42dbecf1"
      },
      "outputs": [
        {
          "data": {
            "text/plain": [
              "Text(0.5, 1.0, 'Class Distributions \\n 0: Normal      1: Hate')"
            ]
          },
          "execution_count": 11,
          "metadata": {},
          "output_type": "execute_result"
        },
        {
          "data": {
            "image/png": "[encoded data removed]",
            "text/plain": [
              "<Figure size 432x288 with 1 Axes>"
            ]
          },
          "metadata": {},
          "output_type": "display_data"
        }
      ],
      "source": [
        "\n",
        "\n",
        "colors = [\"#0101DF\", \"#DF0101\"]\n",
        "\n",
        "sns.countplot('label', data=data, palette=colors)\n",
        "plt.title('Class Distributions \\n 0: Normal      1: Hate', fontsize=14)\n",
        "\n"
      ]
    },
    {
      "cell_type": "markdown",
      "metadata": {
        "id": "mQn7kFcFCmxd"
      },
      "source": [
        "## Data Preprocessing"
      ]
    },
    {
      "cell_type": "code",
      "execution_count": null,
      "metadata": {
        "id": "drGExwikRoau"
      },
      "outputs": [],
      "source": [
        "def remove_emoji(text):\n",
        "    emoji_pattern = re.compile(\"[\"\n",
        "                u\"\\U0001F600-\\U0001F64F\" #emoticons\n",
        "                u\"\\U0001F300-\\U0001F5FF\" #symbols & pictograms\n",
        "                u\"\\U0001F680-\\U0001F6FF\" #transport & map symbols\n",
        "                u\"\\U0001F1E0-\\U0001F1FF\" #flags(ios)\n",
        "                u\"\\U00002702-\\U000027B0\"\n",
        "                u\"\\U000024C2-\\U0001F251\" \n",
        "                \"]+\", flags=re.UNICODE)\n",
        "    return emoji_pattern.sub(r'', text)\n",
        "\n",
        "def clean_text(text):\n",
        "    delete_dict = {sp_character: '' for sp_character in string.punctuation}\n",
        "    delete_dict[' '] = ' '\n",
        "    table = str.maketrans(delete_dict)\n",
        "    text1 = text.translate(table)\n",
        "    textArr = text1.split()\n",
        "    text2 = ' '.join([w for w in textArr if(not w.isdigit() and (not w.isdigit() and len(w) > 3))])\n",
        "\n",
        "    return text2.lower()"
      ]
    },
    {
      "cell_type": "code",
      "execution_count": null,
      "metadata": {
        "id": "T_silHojRrbu"
      },
      "outputs": [],
      "source": [
        "data['tweet'] = data['tweet'].apply(remove_emoji)\n",
        "data['tweet'] = data['tweet'].apply(clean_text)\n",
        "data['num_words_text'] = data['tweet'].apply(lambda x : len(str(x).split()))\n",
        "\n",
        "train_data, val_data = train_test_split(data, test_size=0.2)\n",
        "train_data.reset_index(drop=True, inplace=True)\n",
        "val_data.reset_index(drop=True, inplace=True)"
      ]
    },
    {
      "cell_type": "code",
      "execution_count": null,
      "metadata": {
        "colab": {
          "base_uri": "https://localhost:8080/"
        },
        "id": "Hg1JdJrURud1",
        "outputId": "edffa79f-04d9-4bcc-de31-32382848231c"
      },
      "outputs": [
        {
          "name": "stdout",
          "output_type": "stream",
          "text": [
            "==== Train Data ====\n",
            "0    23758\n",
            "1     1811\n",
            "Name: label, dtype: int64\n",
            "25569\n",
            "==== Test Data ====\n",
            "0    5962\n",
            "1     431\n",
            "Name: label, dtype: int64\n",
            "6393\n"
          ]
        }
      ],
      "source": [
        "test_data = val_data\n",
        "print(\"==== Train Data ====\")\n",
        "print(train_data['label'].value_counts())\n",
        "print(len(train_data))\n",
        "\n",
        "print(\"==== Test Data ====\")\n",
        "print(test_data['label'].value_counts())\n",
        "print(len(test_data))"
      ]
    },
    {
      "cell_type": "markdown",
      "metadata": {
        "id": "rF-qleToCtHe"
      },
      "source": [
        "## Train"
      ]
    },
    {
      "cell_type": "code",
      "execution_count": null,
      "metadata": {
        "colab": {
          "base_uri": "https://localhost:8080/"
        },
        "id": "nCZoOX0OSFrX",
        "outputId": "182af1f2-b779-4c8b-89e9-d21a88e75cc9"
      },
      "outputs": [
        {
          "name": "stdout",
          "output_type": "stream",
          "text": [
            "Train Data len:  20455\n",
            "Class distribution:  Counter({0: 19006, 1: 1449})\n",
            "Validation Data len:  5114\n",
            "Class distribution:  Counter({0: 4752, 1: 362})\n"
          ]
        }
      ],
      "source": [
        "X_train, X_valid, y_train, y_valid = train_test_split(train_data['tweet'].tolist(), train_data['label'].tolist(), test_size=0.2, stratify=train_data['label'].tolist(), random_state=0)\n",
        "print(\"Train Data len: \", len(X_train))\n",
        "print(\"Class distribution: \", Counter(y_train))\n",
        "print(\"Validation Data len: \", len(X_valid))\n",
        "print(\"Class distribution: \", Counter(y_valid))"
      ]
    },
    {
      "cell_type": "code",
      "execution_count": null,
      "metadata": {
        "colab": {
          "base_uri": "https://localhost:8080/",
          "height": 36
        },
        "id": "2vMbfH1JSIbs",
        "outputId": "7e4f65ed-2d00-4f9e-cdc1-197ce83a4a2d"
      },
      "outputs": [
        {
          "data": {
            "application/vnd.google.colaboratory.intrinsic+json": {
              "type": "string"
            },
            "text/plain": [
              "'finally after months waiting watching user user charmars episodic lovecharmar'"
            ]
          },
          "execution_count": 16,
          "metadata": {},
          "output_type": "execute_result"
        }
      ],
      "source": [
        "# Print a sample of train data \n",
        "\n",
        "X_train[5]\n",
        "\n"
      ]
    },
    {
      "cell_type": "code",
      "execution_count": null,
      "metadata": {
        "id": "TMgBTbp5SM_R"
      },
      "outputs": [],
      "source": [
        "\n",
        "\n",
        "num_words=50000\n",
        "\n",
        "tokenizer = Tokenizer(num_words=num_words, oov_token=\"<UNK>\")\n",
        "tokenizer.fit_on_texts(X_train)\n",
        "\n"
      ]
    },
    {
      "cell_type": "code",
      "execution_count": null,
      "metadata": {
        "colab": {
          "base_uri": "https://localhost:8080/"
        },
        "id": "iW7KU25iSR1a",
        "outputId": "e9551dfd-77a3-4d2a-d705-34311c9f31e6"
      },
      "outputs": [
        {
          "name": "stdout",
          "output_type": "stream",
          "text": [
            "The array of x_train\n",
            "[list([131, 2105, 2106])\n",
            " list([4032, 3432, 81, 1403, 379, 1574, 298, 22, 629, 53, 10543, 2965])\n",
            " list([2602, 2966, 1481, 644, 4033, 615, 69, 106, 98, 122]) ...\n",
            " list([647, 4825, 190, 669])\n",
            " list([43, 12, 206, 7, 43, 12, 202, 157, 30, 11, 803])\n",
            " list([2, 2, 2, 448, 32701])]\n",
            "The array of x_valid\n",
            "[list([2, 2, 2, 2103, 5, 107, 59, 55, 17, 74, 4, 2338, 1553])\n",
            " list([6012, 19, 77]) list([5227, 736, 527]) ...\n",
            " list([25, 192, 17, 21, 9349, 9, 31, 71])\n",
            " list([2, 442, 2302, 2, 1300, 115, 6632, 17958, 1, 1, 1])\n",
            " list([2, 71, 2839, 643, 5663, 1, 1, 1])]\n",
            "Train data:  20455\n",
            "Validation data:  5114\n",
            "Test data:  6393\n"
          ]
        }
      ],
      "source": [
        "x_train = np.array(tokenizer.texts_to_sequences(X_train))\n",
        "print (\"The array of x_train\")\n",
        "print (x_train)\n",
        "x_valid = np.array(tokenizer.texts_to_sequences(X_valid))\n",
        "print (\"The array of x_valid\")\n",
        "print (x_valid)\n",
        "x_test = np.array(tokenizer.texts_to_sequences(test_data['tweet'].tolist()))\n",
        "\n",
        "maxlen=50\n",
        "x_train = pad_sequences(x_train, padding='post', maxlen=maxlen)\n",
        "x_valid = pad_sequences(x_valid, padding='post', maxlen=maxlen)\n",
        "x_test = pad_sequences(x_test, padding='post', maxlen=maxlen)\n",
        "\n",
        "train_labels = np.asarray(y_train)\n",
        "valid_labels = np.asarray(y_valid)\n",
        "test_labels = np.asarray(test_data['label'].tolist())\n",
        "\n",
        "print(\"Train data: \", len(x_train))\n",
        "print(\"Validation data: \", len(x_valid))\n",
        "print(\"Test data: \", len(x_test))\n",
        "\n",
        "#Tensorflow dataset\n",
        "train_ds = tf.data.Dataset.from_tensor_slices((x_train, train_labels))\n",
        "valid_ds = tf.data.Dataset.from_tensor_slices((x_valid, valid_labels))\n",
        "test_ds = tf.data.Dataset.from_tensor_slices((x_test, test_labels))\n"
      ]
    },
    {
      "cell_type": "code",
      "execution_count": null,
      "metadata": {
        "colab": {
          "base_uri": "https://localhost:8080/"
        },
        "id": "tPNC0NKpSVm2",
        "outputId": "ae799951-464f-429f-f5df-ec243e8c6442"
      },
      "outputs": [
        {
          "name": "stdout",
          "output_type": "stream",
          "text": [
            "WARNING:tensorflow:Layer lstm will not use cuDNN kernels since it doesn't meet the criteria. It will use a generic GPU kernel as fallback when running on GPU.\n",
            "Model: \"sequential\"\n",
            "_________________________________________________________________\n",
            " Layer (type)                Output Shape              Param #   \n",
            "=================================================================\n",
            " embedding (Embedding)       (None, 50, 16)            800016    \n",
            "                                                                 \n",
            " dropout (Dropout)           (None, 50, 16)            0         \n",
            "                                                                 \n",
            " lstm (LSTM)                 (None, 50, 16)            2112      \n",
            "                                                                 \n",
            " flatten (Flatten)           (None, 800)               0         \n",
            "                                                                 \n",
            " dense (Dense)               (None, 512)               410112    \n",
            "                                                                 \n",
            " dropout_1 (Dropout)         (None, 512)               0         \n",
            "                                                                 \n",
            " dense_1 (Dense)             (None, 8)                 4104      \n",
            "                                                                 \n",
            " dropout_2 (Dropout)         (None, 8)                 0         \n",
            "                                                                 \n",
            " dense_2 (Dense)             (None, 1)                 9         \n",
            "                                                                 \n",
            "=================================================================\n",
            "Total params: 1,216,353\n",
            "Trainable params: 1,216,353\n",
            "Non-trainable params: 0\n",
            "_________________________________________________________________\n"
          ]
        }
      ],
      "source": [
        "\n",
        "\n",
        "max_features = 50000\n",
        "embedding_dim = 16\n",
        "sequence_length=maxlen\n",
        "\n",
        "model = tf.keras.Sequential()\n",
        "model.add(tf.keras.layers.Embedding(max_features + 1, embedding_dim, input_length=sequence_length, embeddings_regularizer=regularizers.l2(0.005)))\n",
        "model.add(tf.keras.layers.Dropout(0.4))\n",
        "model.add(tf.keras.layers.LSTM(embedding_dim, dropout=0.2, recurrent_dropout=0.2, return_sequences=True, kernel_regularizer=regularizers.l2(0.005), bias_regularizer=regularizers.l2(0.005)))\n",
        "model.add(tf.keras.layers.Flatten())\n",
        "model.add(tf.keras.layers.Dense(512, activation='relu', kernel_regularizer=regularizers.l2(0.001), bias_regularizer=regularizers.l2(0.001)))\n",
        "model.add(tf.keras.layers.Dropout(0.4))\n",
        "model.add(tf.keras.layers.Dense(8, activation='relu', kernel_regularizer=regularizers.l2(0.001), bias_regularizer=regularizers.l2(0.001)))\n",
        "model.add(tf.keras.layers.Dropout(0.4))\n",
        "model.add(tf.keras.layers.Dense(1, activation='sigmoid'))\n",
        "\n",
        "model.summary()\n",
        "\n"
      ]
    },
    {
      "cell_type": "code",
      "execution_count": null,
      "metadata": {
        "id": "a08Iup5CSZUl"
      },
      "outputs": [],
      "source": [
        "model.compile(loss=tf.keras.losses.BinaryCrossentropy(), optimizer=tf.keras.optimizers.Adam(1e-3), metrics=[tf.keras.metrics.BinaryAccuracy()])"
      ]
    },
    {
      "cell_type": "code",
      "execution_count": null,
      "metadata": {
        "colab": {
          "background_save": true,
          "base_uri": "https://localhost:8080/"
        },
        "id": "FUb7XzrqStnY",
        "outputId": "af72c489-4669-431d-b7c5-31fd348c0fa7"
      },
      "outputs": [
        {
          "name": "stdout",
          "output_type": "stream",
          "text": [
            "Epoch 1/100\n",
            "20/20 [==============================] - 22s 534ms/step - loss: 3.0375 - binary_accuracy: 0.9067 - val_loss: 1.5501 - val_binary_accuracy: 0.9292\n",
            "Epoch 2/100\n",
            "20/20 [==============================] - 4s 224ms/step - loss: 1.1092 - binary_accuracy: 0.9291 - val_loss: 0.6615 - val_binary_accuracy: 0.9292\n",
            "Epoch 3/100\n",
            "20/20 [==============================] - 4s 223ms/step - loss: 0.6021 - binary_accuracy: 0.9292 - val_loss: 0.4653 - val_binary_accuracy: 0.9292\n",
            "Epoch 4/100\n",
            "20/20 [==============================] - 4s 211ms/step - loss: 0.4821 - binary_accuracy: 0.9292 - val_loss: 0.4120 - val_binary_accuracy: 0.9292\n",
            "Epoch 5/100\n",
            "20/20 [==============================] - 4s 222ms/step - loss: 0.4430 - binary_accuracy: 0.9292 - val_loss: 0.3857 - val_binary_accuracy: 0.9292\n",
            "Epoch 6/100\n",
            "20/20 [==============================] - 8s 422ms/step - loss: 0.4178 - binary_accuracy: 0.9292 - val_loss: 0.3689 - val_binary_accuracy: 0.9292\n",
            "Epoch 7/100\n",
            "20/20 [==============================] - 9s 459ms/step - loss: 0.4019 - binary_accuracy: 0.9292 - val_loss: 0.3546 - val_binary_accuracy: 0.9292\n",
            "Epoch 8/100\n",
            "20/20 [==============================] - 11s 535ms/step - loss: 0.3870 - binary_accuracy: 0.9292 - val_loss: 0.3383 - val_binary_accuracy: 0.9292\n",
            "Epoch 9/100\n",
            "20/20 [==============================] - 4s 214ms/step - loss: 0.3722 - binary_accuracy: 0.9292 - val_loss: 0.3198 - val_binary_accuracy: 0.9292\n",
            "Epoch 10/100\n",
            "20/20 [==============================] - 4s 215ms/step - loss: 0.3447 - binary_accuracy: 0.9292 - val_loss: 0.2894 - val_binary_accuracy: 0.9292\n",
            "Epoch 11/100\n",
            "20/20 [==============================] - 4s 220ms/step - loss: 0.3089 - binary_accuracy: 0.9292 - val_loss: 0.2713 - val_binary_accuracy: 0.9292\n",
            "Epoch 12/100\n",
            "20/20 [==============================] - 4s 222ms/step - loss: 0.2785 - binary_accuracy: 0.9297 - val_loss: 0.2648 - val_binary_accuracy: 0.9292\n",
            "Epoch 13/100\n",
            "20/20 [==============================] - 4s 219ms/step - loss: 0.2533 - binary_accuracy: 0.9481 - val_loss: 0.2541 - val_binary_accuracy: 0.9542\n",
            "Epoch 14/100\n",
            "20/20 [==============================] - 4s 215ms/step - loss: 0.2356 - binary_accuracy: 0.9508 - val_loss: 0.2634 - val_binary_accuracy: 0.9564\n",
            "Epoch 15/100\n",
            "20/20 [==============================] - 4s 225ms/step - loss: 0.2347 - binary_accuracy: 0.9542 - val_loss: 0.2672 - val_binary_accuracy: 0.9630\n",
            "Epoch 16/100\n",
            "20/20 [==============================] - 4s 217ms/step - loss: 0.2215 - binary_accuracy: 0.9572 - val_loss: 0.2693 - val_binary_accuracy: 0.9603\n",
            "Epoch 17/100\n",
            "20/20 [==============================] - 5s 214ms/step - loss: 0.2143 - binary_accuracy: 0.9553 - val_loss: 0.2391 - val_binary_accuracy: 0.9611\n",
            "Epoch 18/100\n",
            "20/20 [==============================] - 4s 222ms/step - loss: 0.2128 - binary_accuracy: 0.9551 - val_loss: 0.2313 - val_binary_accuracy: 0.9628\n",
            "Epoch 19/100\n",
            "20/20 [==============================] - 4s 214ms/step - loss: 0.1990 - binary_accuracy: 0.9587 - val_loss: 0.2344 - val_binary_accuracy: 0.9611\n",
            "Epoch 20/100\n",
            "20/20 [==============================] - 4s 224ms/step - loss: 0.1927 - binary_accuracy: 0.9586 - val_loss: 0.2442 - val_binary_accuracy: 0.9597\n",
            "Epoch 21/100\n",
            "20/20 [==============================] - 4s 220ms/step - loss: 0.1882 - binary_accuracy: 0.9601 - val_loss: 0.2447 - val_binary_accuracy: 0.9636\n",
            "Epoch 22/100\n",
            "20/20 [==============================] - 5s 227ms/step - loss: 0.1815 - binary_accuracy: 0.9616 - val_loss: 0.2428 - val_binary_accuracy: 0.9597\n",
            "Epoch 23/100\n",
            "20/20 [==============================] - 4s 212ms/step - loss: 0.1854 - binary_accuracy: 0.9609 - val_loss: 0.2248 - val_binary_accuracy: 0.9585\n",
            "Epoch 24/100\n",
            "20/20 [==============================] - 4s 211ms/step - loss: 0.1864 - binary_accuracy: 0.9600 - val_loss: 0.2399 - val_binary_accuracy: 0.9615\n",
            "Epoch 25/100\n",
            "20/20 [==============================] - 4s 221ms/step - loss: 0.1836 - binary_accuracy: 0.9615 - val_loss: 0.2200 - val_binary_accuracy: 0.9638\n",
            "Epoch 26/100\n",
            "20/20 [==============================] - 4s 217ms/step - loss: 0.1808 - binary_accuracy: 0.9625 - val_loss: 0.2481 - val_binary_accuracy: 0.9627\n",
            "Epoch 27/100\n",
            "20/20 [==============================] - 4s 222ms/step - loss: 0.1745 - binary_accuracy: 0.9623 - val_loss: 0.2348 - val_binary_accuracy: 0.9595\n",
            "Epoch 28/100\n",
            "20/20 [==============================] - 4s 218ms/step - loss: 0.1671 - binary_accuracy: 0.9632 - val_loss: 0.2592 - val_binary_accuracy: 0.9623\n",
            "Epoch 29/100\n",
            "20/20 [==============================] - 4s 219ms/step - loss: 0.1635 - binary_accuracy: 0.9624 - val_loss: 0.2618 - val_binary_accuracy: 0.9613\n",
            "Epoch 30/100\n",
            "20/20 [==============================] - 4s 220ms/step - loss: 0.1633 - binary_accuracy: 0.9624 - val_loss: 0.2334 - val_binary_accuracy: 0.9607\n",
            "Epoch 31/100\n",
            "20/20 [==============================] - 5s 265ms/step - loss: 0.1604 - binary_accuracy: 0.9610 - val_loss: 0.3136 - val_binary_accuracy: 0.9642\n",
            "Epoch 32/100\n",
            "20/20 [==============================] - 5s 225ms/step - loss: 0.1651 - binary_accuracy: 0.9615 - val_loss: 0.3096 - val_binary_accuracy: 0.9642\n",
            "Epoch 33/100\n",
            "20/20 [==============================] - 4s 215ms/step - loss: 0.1648 - binary_accuracy: 0.9625 - val_loss: 0.2570 - val_binary_accuracy: 0.9625\n",
            "Epoch 34/100\n",
            "20/20 [==============================] - 4s 217ms/step - loss: 0.1607 - binary_accuracy: 0.9627 - val_loss: 0.2353 - val_binary_accuracy: 0.9628\n",
            "Epoch 35/100\n",
            "20/20 [==============================] - 4s 222ms/step - loss: 0.1564 - binary_accuracy: 0.9646 - val_loss: 0.2348 - val_binary_accuracy: 0.9658\n",
            "Epoch 36/100\n",
            "20/20 [==============================] - 4s 218ms/step - loss: 0.1564 - binary_accuracy: 0.9644 - val_loss: 0.2314 - val_binary_accuracy: 0.9638\n",
            "Epoch 37/100\n",
            "20/20 [==============================] - 4s 213ms/step - loss: 0.1440 - binary_accuracy: 0.9650 - val_loss: 0.2553 - val_binary_accuracy: 0.9630\n",
            "Epoch 38/100\n",
            "20/20 [==============================] - 4s 218ms/step - loss: 0.1455 - binary_accuracy: 0.9637 - val_loss: 0.2316 - val_binary_accuracy: 0.9601\n",
            "Epoch 39/100\n",
            "20/20 [==============================] - 4s 224ms/step - loss: 0.1507 - binary_accuracy: 0.9629 - val_loss: 0.2275 - val_binary_accuracy: 0.9603\n",
            "Epoch 40/100\n",
            "20/20 [==============================] - 7s 336ms/step - loss: 0.1497 - binary_accuracy: 0.9642 - val_loss: 0.2623 - val_binary_accuracy: 0.9638\n",
            "Epoch 41/100\n",
            "20/20 [==============================] - 4s 217ms/step - loss: 0.1423 - binary_accuracy: 0.9655 - val_loss: 0.2455 - val_binary_accuracy: 0.9597\n",
            "Epoch 42/100\n",
            "20/20 [==============================] - 4s 216ms/step - loss: 0.1482 - binary_accuracy: 0.9629 - val_loss: 0.2502 - val_binary_accuracy: 0.9640\n",
            "Epoch 43/100\n",
            "20/20 [==============================] - 4s 214ms/step - loss: 0.1405 - binary_accuracy: 0.9662 - val_loss: 0.2558 - val_binary_accuracy: 0.9630\n",
            "Epoch 44/100\n",
            "20/20 [==============================] - 4s 211ms/step - loss: 0.1384 - binary_accuracy: 0.9643 - val_loss: 0.2302 - val_binary_accuracy: 0.9613\n",
            "Epoch 45/100\n",
            "20/20 [==============================] - 5s 222ms/step - loss: 0.1570 - binary_accuracy: 0.9600 - val_loss: 0.2236 - val_binary_accuracy: 0.9576\n",
            "Epoch 46/100\n",
            "20/20 [==============================] - 4s 213ms/step - loss: 0.1493 - binary_accuracy: 0.9624 - val_loss: 0.2397 - val_binary_accuracy: 0.9640\n",
            "Epoch 47/100\n",
            "20/20 [==============================] - 4s 215ms/step - loss: 0.1431 - binary_accuracy: 0.9638 - val_loss: 0.2404 - val_binary_accuracy: 0.9632\n",
            "Epoch 48/100\n",
            "20/20 [==============================] - 4s 220ms/step - loss: 0.1412 - binary_accuracy: 0.9654 - val_loss: 0.2382 - val_binary_accuracy: 0.9658\n",
            "Epoch 49/100\n",
            "20/20 [==============================] - 4s 210ms/step - loss: 0.1370 - binary_accuracy: 0.9644 - val_loss: 0.2651 - val_binary_accuracy: 0.9652\n",
            "Epoch 50/100\n",
            "20/20 [==============================] - 4s 213ms/step - loss: 0.1363 - binary_accuracy: 0.9648 - val_loss: 0.2542 - val_binary_accuracy: 0.9619\n",
            "Epoch 51/100\n",
            "20/20 [==============================] - 4s 216ms/step - loss: 0.1421 - binary_accuracy: 0.9625 - val_loss: 0.2029 - val_binary_accuracy: 0.9597\n",
            "Epoch 52/100\n",
            "20/20 [==============================] - 4s 224ms/step - loss: 0.1432 - binary_accuracy: 0.9645 - val_loss: 0.2690 - val_binary_accuracy: 0.9632\n",
            "Epoch 53/100\n",
            "20/20 [==============================] - 4s 214ms/step - loss: 0.1429 - binary_accuracy: 0.9630 - val_loss: 0.2246 - val_binary_accuracy: 0.9583\n",
            "Epoch 54/100\n",
            "20/20 [==============================] - 4s 213ms/step - loss: 0.1336 - binary_accuracy: 0.9646 - val_loss: 0.2829 - val_binary_accuracy: 0.9630\n",
            "Epoch 55/100\n",
            "20/20 [==============================] - 4s 218ms/step - loss: 0.1352 - binary_accuracy: 0.9637 - val_loss: 0.2470 - val_binary_accuracy: 0.9589\n",
            "Epoch 56/100\n",
            "20/20 [==============================] - 4s 212ms/step - loss: 0.1374 - binary_accuracy: 0.9638 - val_loss: 0.2117 - val_binary_accuracy: 0.9603\n",
            "Epoch 57/100\n",
            "20/20 [==============================] - 4s 214ms/step - loss: 0.1369 - binary_accuracy: 0.9633 - val_loss: 0.2437 - val_binary_accuracy: 0.9617\n",
            "Epoch 58/100\n",
            "20/20 [==============================] - 4s 205ms/step - loss: 0.1336 - binary_accuracy: 0.9645 - val_loss: 0.2664 - val_binary_accuracy: 0.9591\n",
            "Epoch 59/100\n",
            "20/20 [==============================] - 4s 212ms/step - loss: 0.1379 - binary_accuracy: 0.9625 - val_loss: 0.2453 - val_binary_accuracy: 0.9556\n",
            "Epoch 60/100\n",
            "20/20 [==============================] - 4s 216ms/step - loss: 0.1331 - binary_accuracy: 0.9643 - val_loss: 0.2334 - val_binary_accuracy: 0.9595\n",
            "Epoch 61/100\n",
            "20/20 [==============================] - 4s 207ms/step - loss: 0.1295 - binary_accuracy: 0.9660 - val_loss: 0.3298 - val_binary_accuracy: 0.9632\n",
            "Epoch 62/100\n",
            "20/20 [==============================] - 4s 214ms/step - loss: 0.1348 - binary_accuracy: 0.9637 - val_loss: 0.2526 - val_binary_accuracy: 0.9615\n",
            "Epoch 63/100\n",
            "20/20 [==============================] - 4s 221ms/step - loss: 0.1346 - binary_accuracy: 0.9643 - val_loss: 0.2378 - val_binary_accuracy: 0.9595\n",
            "Epoch 64/100\n",
            "20/20 [==============================] - 4s 220ms/step - loss: 0.1407 - binary_accuracy: 0.9630 - val_loss: 0.2201 - val_binary_accuracy: 0.9580\n",
            "Epoch 65/100\n",
            "20/20 [==============================] - 4s 217ms/step - loss: 0.1435 - binary_accuracy: 0.9621 - val_loss: 0.2727 - val_binary_accuracy: 0.9630\n",
            "Epoch 66/100\n",
            "20/20 [==============================] - 4s 214ms/step - loss: 0.1378 - binary_accuracy: 0.9630 - val_loss: 0.2422 - val_binary_accuracy: 0.9611\n",
            "Epoch 67/100\n",
            "20/20 [==============================] - 4s 218ms/step - loss: 0.1444 - binary_accuracy: 0.9625 - val_loss: 0.2626 - val_binary_accuracy: 0.9642\n",
            "Epoch 68/100\n",
            "20/20 [==============================] - 4s 219ms/step - loss: 0.1363 - binary_accuracy: 0.9654 - val_loss: 0.2726 - val_binary_accuracy: 0.9613\n",
            "Epoch 69/100\n",
            "20/20 [==============================] - 4s 214ms/step - loss: 0.1400 - binary_accuracy: 0.9646 - val_loss: 0.2141 - val_binary_accuracy: 0.9605\n",
            "Epoch 70/100\n",
            "20/20 [==============================] - 4s 217ms/step - loss: 0.1324 - binary_accuracy: 0.9639 - val_loss: 0.2794 - val_binary_accuracy: 0.9603\n",
            "Epoch 71/100\n",
            "20/20 [==============================] - 4s 213ms/step - loss: 0.1358 - binary_accuracy: 0.9642 - val_loss: 0.2660 - val_binary_accuracy: 0.9589\n",
            "Epoch 72/100\n",
            "20/20 [==============================] - 4s 223ms/step - loss: 0.1337 - binary_accuracy: 0.9631 - val_loss: 0.2808 - val_binary_accuracy: 0.9619\n",
            "Epoch 73/100\n",
            "20/20 [==============================] - 4s 219ms/step - loss: 0.1334 - binary_accuracy: 0.9620 - val_loss: 0.2574 - val_binary_accuracy: 0.9609\n",
            "Epoch 74/100\n",
            "20/20 [==============================] - 4s 216ms/step - loss: 0.1273 - binary_accuracy: 0.9647 - val_loss: 0.2438 - val_binary_accuracy: 0.9611\n",
            "Epoch 75/100\n",
            "20/20 [==============================] - 5s 227ms/step - loss: 0.1241 - binary_accuracy: 0.9660 - val_loss: 0.2517 - val_binary_accuracy: 0.9605\n",
            "Epoch 76/100\n",
            "20/20 [==============================] - 4s 216ms/step - loss: 0.1252 - binary_accuracy: 0.9646 - val_loss: 0.2321 - val_binary_accuracy: 0.9601\n",
            "Epoch 77/100\n",
            "20/20 [==============================] - 4s 213ms/step - loss: 0.1271 - binary_accuracy: 0.9643 - val_loss: 0.2549 - val_binary_accuracy: 0.9611\n",
            "Epoch 78/100\n",
            "20/20 [==============================] - 4s 217ms/step - loss: 0.1285 - binary_accuracy: 0.9645 - val_loss: 0.2746 - val_binary_accuracy: 0.9619\n",
            "Epoch 79/100\n",
            "20/20 [==============================] - 4s 220ms/step - loss: 0.1269 - binary_accuracy: 0.9657 - val_loss: 0.2356 - val_binary_accuracy: 0.9585\n",
            "Epoch 80/100\n",
            "20/20 [==============================] - 4s 217ms/step - loss: 0.1277 - binary_accuracy: 0.9640 - val_loss: 0.2113 - val_binary_accuracy: 0.9580\n",
            "Epoch 81/100\n",
            "20/20 [==============================] - 4s 211ms/step - loss: 0.1277 - binary_accuracy: 0.9645 - val_loss: 0.2627 - val_binary_accuracy: 0.9611\n",
            "Epoch 82/100\n",
            "20/20 [==============================] - 4s 216ms/step - loss: 0.1278 - binary_accuracy: 0.9662 - val_loss: 0.3030 - val_binary_accuracy: 0.9613\n",
            "Epoch 83/100\n",
            "20/20 [==============================] - 4s 222ms/step - loss: 0.1275 - binary_accuracy: 0.9655 - val_loss: 0.2857 - val_binary_accuracy: 0.9623\n",
            "Epoch 84/100\n",
            "20/20 [==============================] - 4s 219ms/step - loss: 0.1279 - binary_accuracy: 0.9621 - val_loss: 0.2545 - val_binary_accuracy: 0.9625\n",
            "Epoch 85/100\n",
            "20/20 [==============================] - 4s 212ms/step - loss: 0.1276 - binary_accuracy: 0.9643 - val_loss: 0.2412 - val_binary_accuracy: 0.9628\n",
            "Epoch 86/100\n",
            "20/20 [==============================] - 4s 214ms/step - loss: 0.1292 - binary_accuracy: 0.9656 - val_loss: 0.2316 - val_binary_accuracy: 0.9650\n",
            "Epoch 87/100\n",
            "20/20 [==============================] - 5s 225ms/step - loss: 0.1273 - binary_accuracy: 0.9651 - val_loss: 0.2230 - val_binary_accuracy: 0.9574\n",
            "Epoch 88/100\n",
            "20/20 [==============================] - 4s 217ms/step - loss: 0.1252 - binary_accuracy: 0.9652 - val_loss: 0.2560 - val_binary_accuracy: 0.9615\n",
            "Epoch 89/100\n",
            "20/20 [==============================] - 4s 219ms/step - loss: 0.1309 - binary_accuracy: 0.9644 - val_loss: 0.2430 - val_binary_accuracy: 0.9642\n",
            "Epoch 90/100\n",
            "20/20 [==============================] - 4s 218ms/step - loss: 0.1251 - binary_accuracy: 0.9653 - val_loss: 0.2395 - val_binary_accuracy: 0.9591\n",
            "Epoch 91/100\n",
            "20/20 [==============================] - 4s 218ms/step - loss: 0.1248 - binary_accuracy: 0.9658 - val_loss: 0.2244 - val_binary_accuracy: 0.9593\n",
            "Epoch 92/100\n",
            "20/20 [==============================] - 4s 223ms/step - loss: 0.1262 - binary_accuracy: 0.9648 - val_loss: 0.2337 - val_binary_accuracy: 0.9605\n",
            "Epoch 93/100\n",
            "20/20 [==============================] - 4s 215ms/step - loss: 0.1228 - binary_accuracy: 0.9666 - val_loss: 0.2135 - val_binary_accuracy: 0.9587\n",
            "Epoch 94/100\n",
            "20/20 [==============================] - 5s 231ms/step - loss: 0.1258 - binary_accuracy: 0.9648 - val_loss: 0.2698 - val_binary_accuracy: 0.9634\n",
            "Epoch 95/100\n",
            "20/20 [==============================] - 4s 216ms/step - loss: 0.1268 - binary_accuracy: 0.9636 - val_loss: 0.3192 - val_binary_accuracy: 0.9621\n",
            "Epoch 96/100\n",
            "20/20 [==============================] - 4s 221ms/step - loss: 0.1351 - binary_accuracy: 0.9648 - val_loss: 0.2473 - val_binary_accuracy: 0.9599\n",
            "Epoch 97/100\n",
            "20/20 [==============================] - 4s 221ms/step - loss: 0.1307 - binary_accuracy: 0.9655 - val_loss: 0.2473 - val_binary_accuracy: 0.9597\n",
            "Epoch 98/100\n",
            "20/20 [==============================] - 4s 225ms/step - loss: 0.1346 - binary_accuracy: 0.9641 - val_loss: 0.2630 - val_binary_accuracy: 0.9632\n",
            "Epoch 99/100\n",
            "20/20 [==============================] - 5s 223ms/step - loss: 0.1346 - binary_accuracy: 0.9649 - val_loss: 0.2187 - val_binary_accuracy: 0.9578\n",
            "Epoch 100/100\n",
            "20/20 [==============================] - 4s 216ms/step - loss: 0.1305 - binary_accuracy: 0.9646 - val_loss: 0.2581 - val_binary_accuracy: 0.9632\n"
          ]
        }
      ],
      "source": [
        "epochs=100\n",
        "history=model.fit(train_ds.shuffle(5000).batch(1024), epochs=epochs, validation_data=valid_ds.batch(1024), verbose=1)"
      ]
    },
    {
      "cell_type": "code",
      "execution_count": null,
      "metadata": {
        "id": "-GMCQUbiSwMV"
      },
      "outputs": [],
      "source": [
        "predictions = model.predict(x_test)\n",
        "print(predictions)\n"
      ]
    },
    {
      "cell_type": "code",
      "execution_count": null,
      "metadata": {
        "id": "1vu-DrvTVkDp"
      },
      "outputs": [],
      "source": [
        "def display_training_curves(training, validation, title, subplot):\n",
        "    _, ax = plt.subplots(figsize=(10,5), facecolor='#F0F0F0')\n",
        "    plt.tight_layout()\n",
        "    ax.set_facecolor('#F8F8F8')\n",
        "    ax.plot(training)\n",
        "    ax.plot(validation)\n",
        "    ax.set_title('model '+ title)\n",
        "    ax.set_ylabel(title)\n",
        "    #ax.set_ylim(0.28,1.05)\n",
        "    ax.set_xlabel('epochs')\n",
        "    ax.legend(['train', 'valid.'])"
      ]
    },
    {
      "cell_type": "code",
      "execution_count": null,
      "metadata": {
        "id": "dbiPYe30Voy2"
      },
      "outputs": [],
      "source": [
        "display_training_curves(\n",
        "    history.history['loss'], \n",
        "    history.history['val_loss'], \n",
        "    'loss', 211)\n",
        "display_training_curves(\n",
        "    history.history['binary_accuracy'], \n",
        "    history.history['val_binary_accuracy'], \n",
        "    'accuracy', 212)"
      ]
    },
    {
      "cell_type": "code",
      "execution_count": null,
      "metadata": {
        "id": "7qEXO8KJVsoC"
      },
      "outputs": [],
      "source": [
        "\n",
        "_, (ax1, ax2) = plt.subplots(1, 2, figsize=(15,5))\n",
        "ax1.scatter(predictions, range(0, len(predictions)), alpha=0.2)\n",
        "ax1.set_title(\"Distributions\")\n",
        "ax2 = sns.distplot(predictions)\n"
      ]
    },
    {
      "cell_type": "markdown",
      "metadata": {
        "id": "0gWFmvMKC0Or"
      },
      "source": [
        "## Testing the Model"
      ]
    },
    {
      "cell_type": "code",
      "execution_count": null,
      "metadata": {
        "id": "oVEcbG6jVx-7"
      },
      "outputs": [],
      "source": [
        "final_test_df = pd.read_csv('/content/test_tweets_anuFYb8.csv')\n",
        "ftest = final_test_df.copy()\n",
        "ftest.drop(columns=['id'], axis=1, inplace=True)\n",
        "\n",
        "ftest['tweet'] = ftest['tweet'].apply(remove_emoji)\n",
        "ftest['tweet'] = ftest['tweet'].apply(clean_text)\n",
        "\n",
        "f_test = np.array(tokenizer.texts_to_sequences(ftest['tweet'].tolist()))\n",
        "f_test = pad_sequences(f_test, padding='post', maxlen=maxlen)\n",
        "\n",
        "display(f_test)"
      ]
    },
    {
      "cell_type": "code",
      "execution_count": null,
      "metadata": {
        "id": "l76j7EcnV07n"
      },
      "outputs": [],
      "source": [
        "predictions_f_test = model.predict(f_test)"
      ]
    },
    {
      "cell_type": "code",
      "execution_count": null,
      "metadata": {
        "colab": {
          "background_save": true
        },
        "id": "MRNvGy6pWCoE",
        "outputId": "8ebf1624-04cf-4589-bde4-e949c2ae1447"
      },
      "outputs": [
        {
          "data": {
            "image/png": "[encoded data removed]",
            "text/plain": [
              "<Figure size 1080x360 with 2 Axes>"
            ]
          },
          "metadata": {},
          "output_type": "display_data"
        }
      ],
      "source": [
        "\n",
        "\n",
        "_, (ax1, ax2) = plt.subplots(1, 2, figsize=(15,5))\n",
        "ax1.scatter(predictions_f_test, ftest.index, alpha=0.2)\n",
        "ax1.set_title(\"Distributions\")\n",
        "ax2 = sns.distplot(predictions_f_test)\n",
        "\n"
      ]
    },
    {
      "cell_type": "code",
      "execution_count": null,
      "metadata": {
        "id": "sk9BOiEuWGzU"
      },
      "outputs": [],
      "source": [
        "tokenizer.fit_on_texts(y_valid)\n",
        "y_valid = np.array(tokenizer.texts_to_sequences(y_valid))\n",
        "maxlen=50\n",
        "y_valid = pad_sequences(y_valid, padding='post', maxlen=maxlen)\n",
        "classification_report(y_valid, predictions) "
      ]
    },
    {
      "cell_type": "code",
      "execution_count": null,
      "metadata": {
        "id": "6iJcVgKjQF8y"
      },
      "outputs": [],
      "source": []
    }
  ],
  "metadata": {
    "accelerator": "GPU",
    "colab": {
      "provenance": []
    },
    "kernelspec": {
      "display_name": "Python 3",
      "name": "python3"
    },
    "language_info": {
      "name": "python"
    }
  },
  "nbformat": 4,
  "nbformat_minor": 0
}